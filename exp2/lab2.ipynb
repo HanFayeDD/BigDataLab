{
 "cells": [
  {
   "cell_type": "code",
   "execution_count": 45,
   "id": "83865623",
   "metadata": {},
   "outputs": [],
   "source": [
    "import pandas as pd\n",
    "import numpy as np\n",
    "import matplotlib.pyplot as plt\n",
    "import seaborn as sns\n",
    "import collections\n",
    "import random"
   ]
  },
  {
   "cell_type": "markdown",
   "id": "1f152642",
   "metadata": {},
   "source": [
    "## 0、数据处理成csv形式"
   ]
  },
  {
   "cell_type": "code",
   "execution_count": 46,
   "id": "8eb38d83",
   "metadata": {},
   "outputs": [],
   "source": [
    "columns = ['age', 'workclass', 'fnlwgt', 'education', 'educationNum', 'maritalStatus', 'occupation', 'relationship', 'race', 'sex',\n",
    "          'capitalGain', 'capitalLoss', 'hoursPerWeek', 'nativeCountry', 'income']\n",
    "df_train_set = pd.read_csv('./adult.data', names=columns)\n",
    "df_test_set = pd.read_csv('./adult.test', names=columns, skiprows=1) #第一行是非法数据\n",
    "\n",
    "print(df_train_set.head())\n",
    "print(df_test_set.head())\n",
    "df_train_set.to_csv('./train_adult.csv', index=False)\n",
    "df_test_set.to_csv('./test_adult.csv', index=False)"
   ]
  },
  {
   "cell_type": "code",
   "execution_count": null,
   "id": "1ff96a48",
   "metadata": {},
   "outputs": [
    {
     "data": {
      "text/html": [
       "<div>\n",
       "<style scoped>\n",
       "    .dataframe tbody tr th:only-of-type {\n",
       "        vertical-align: middle;\n",
       "    }\n",
       "\n",
       "    .dataframe tbody tr th {\n",
       "        vertical-align: top;\n",
       "    }\n",
       "\n",
       "    .dataframe thead th {\n",
       "        text-align: right;\n",
       "    }\n",
       "</style>\n",
       "<table border=\"1\" class=\"dataframe\">\n",
       "  <thead>\n",
       "    <tr style=\"text-align: right;\">\n",
       "      <th></th>\n",
       "      <th>age</th>\n",
       "      <th>workclass</th>\n",
       "      <th>fnlwgt</th>\n",
       "      <th>education</th>\n",
       "      <th>educationNum</th>\n",
       "      <th>maritalStatus</th>\n",
       "      <th>occupation</th>\n",
       "      <th>relationship</th>\n",
       "      <th>race</th>\n",
       "      <th>sex</th>\n",
       "      <th>capitalGain</th>\n",
       "      <th>capitalLoss</th>\n",
       "      <th>hoursPerWeek</th>\n",
       "      <th>nativeCountry</th>\n",
       "      <th>income</th>\n",
       "    </tr>\n",
       "  </thead>\n",
       "  <tbody>\n",
       "    <tr>\n",
       "      <th>0</th>\n",
       "      <td>25</td>\n",
       "      <td>Private</td>\n",
       "      <td>226802</td>\n",
       "      <td>11th</td>\n",
       "      <td>7</td>\n",
       "      <td>Never-married</td>\n",
       "      <td>Machine-op-inspct</td>\n",
       "      <td>Own-child</td>\n",
       "      <td>Black</td>\n",
       "      <td>Male</td>\n",
       "      <td>0</td>\n",
       "      <td>0</td>\n",
       "      <td>40</td>\n",
       "      <td>United-States</td>\n",
       "      <td>&lt;=50K.</td>\n",
       "    </tr>\n",
       "    <tr>\n",
       "      <th>1</th>\n",
       "      <td>38</td>\n",
       "      <td>Private</td>\n",
       "      <td>89814</td>\n",
       "      <td>HS-grad</td>\n",
       "      <td>9</td>\n",
       "      <td>Married-civ-spouse</td>\n",
       "      <td>Farming-fishing</td>\n",
       "      <td>Husband</td>\n",
       "      <td>White</td>\n",
       "      <td>Male</td>\n",
       "      <td>0</td>\n",
       "      <td>0</td>\n",
       "      <td>50</td>\n",
       "      <td>United-States</td>\n",
       "      <td>&lt;=50K.</td>\n",
       "    </tr>\n",
       "    <tr>\n",
       "      <th>2</th>\n",
       "      <td>28</td>\n",
       "      <td>Local-gov</td>\n",
       "      <td>336951</td>\n",
       "      <td>Assoc-acdm</td>\n",
       "      <td>12</td>\n",
       "      <td>Married-civ-spouse</td>\n",
       "      <td>Protective-serv</td>\n",
       "      <td>Husband</td>\n",
       "      <td>White</td>\n",
       "      <td>Male</td>\n",
       "      <td>0</td>\n",
       "      <td>0</td>\n",
       "      <td>40</td>\n",
       "      <td>United-States</td>\n",
       "      <td>&gt;50K.</td>\n",
       "    </tr>\n",
       "    <tr>\n",
       "      <th>3</th>\n",
       "      <td>44</td>\n",
       "      <td>Private</td>\n",
       "      <td>160323</td>\n",
       "      <td>Some-college</td>\n",
       "      <td>10</td>\n",
       "      <td>Married-civ-spouse</td>\n",
       "      <td>Machine-op-inspct</td>\n",
       "      <td>Husband</td>\n",
       "      <td>Black</td>\n",
       "      <td>Male</td>\n",
       "      <td>7688</td>\n",
       "      <td>0</td>\n",
       "      <td>40</td>\n",
       "      <td>United-States</td>\n",
       "      <td>&gt;50K.</td>\n",
       "    </tr>\n",
       "    <tr>\n",
       "      <th>4</th>\n",
       "      <td>18</td>\n",
       "      <td>?</td>\n",
       "      <td>103497</td>\n",
       "      <td>Some-college</td>\n",
       "      <td>10</td>\n",
       "      <td>Never-married</td>\n",
       "      <td>?</td>\n",
       "      <td>Own-child</td>\n",
       "      <td>White</td>\n",
       "      <td>Female</td>\n",
       "      <td>0</td>\n",
       "      <td>0</td>\n",
       "      <td>30</td>\n",
       "      <td>United-States</td>\n",
       "      <td>&lt;=50K.</td>\n",
       "    </tr>\n",
       "  </tbody>\n",
       "</table>\n",
       "</div>"
      ],
      "text/plain": [
       "   age   workclass  fnlwgt      education  educationNum        maritalStatus  \\\n",
       "0   25     Private  226802           11th             7        Never-married   \n",
       "1   38     Private   89814        HS-grad             9   Married-civ-spouse   \n",
       "2   28   Local-gov  336951     Assoc-acdm            12   Married-civ-spouse   \n",
       "3   44     Private  160323   Some-college            10   Married-civ-spouse   \n",
       "4   18           ?  103497   Some-college            10        Never-married   \n",
       "\n",
       "           occupation relationship    race      sex  capitalGain  capitalLoss  \\\n",
       "0   Machine-op-inspct    Own-child   Black     Male            0            0   \n",
       "1     Farming-fishing      Husband   White     Male            0            0   \n",
       "2     Protective-serv      Husband   White     Male            0            0   \n",
       "3   Machine-op-inspct      Husband   Black     Male         7688            0   \n",
       "4                   ?    Own-child   White   Female            0            0   \n",
       "\n",
       "   hoursPerWeek   nativeCountry   income  \n",
       "0            40   United-States   <=50K.  \n",
       "1            50   United-States   <=50K.  \n",
       "2            40   United-States    >50K.  \n",
       "3            40   United-States    >50K.  \n",
       "4            30   United-States   <=50K.  "
      ]
     },
     "execution_count": 47,
     "metadata": {},
     "output_type": "execute_result"
    }
   ],
   "source": [
    "df_test_set.head()"
   ]
  },
  {
   "cell_type": "code",
   "execution_count": null,
   "id": "bccd1129",
   "metadata": {},
   "outputs": [],
   "source": [
    "len(df_train_set), len(df_test_set), len(df_test_set.columns)"
   ]
  },
  {
   "cell_type": "markdown",
   "id": "58d8c776",
   "metadata": {},
   "source": [
    "## 1、数据读取"
   ]
  },
  {
   "cell_type": "code",
   "execution_count": null,
   "id": "f840bf38",
   "metadata": {},
   "outputs": [],
   "source": [
    "df_train_set = pd.read_csv('./train_adult.csv')\n",
    "df_train_set"
   ]
  },
  {
   "cell_type": "markdown",
   "id": "0b499c4f-bd4f-415d-9311-211091a18f39",
   "metadata": {},
   "source": [
    "## 2、数据预处理"
   ]
  },
  {
   "cell_type": "markdown",
   "id": "a751e794",
   "metadata": {},
   "source": [
    "### 2.1 删除对应属性"
   ]
  },
  {
   "cell_type": "code",
   "execution_count": null,
   "id": "ac775bfc",
   "metadata": {},
   "outputs": [],
   "source": [
    "df_train_set.drop(['fnlwgt', 'educationNum'], axis=1, inplace=True) # fnlwgt列用处不大，educationNum与education类似\n",
    "print(df_train_set.columns)"
   ]
  },
  {
   "cell_type": "markdown",
   "id": "5f8752b9",
   "metadata": {},
   "source": [
    "### 2.2 重复行记录处理"
   ]
  },
  {
   "cell_type": "code",
   "execution_count": 7,
   "id": "eac9368e",
   "metadata": {},
   "outputs": [],
   "source": [
    "df_train_set.drop_duplicates(inplace=True) # 去除重复行"
   ]
  },
  {
   "cell_type": "code",
   "execution_count": null,
   "id": "2b4a6e46",
   "metadata": {},
   "outputs": [],
   "source": [
    "df_train_set"
   ]
  },
  {
   "cell_type": "markdown",
   "id": "2dc7f88f",
   "metadata": {},
   "source": [
    "### 2.3 缺失值处理"
   ]
  },
  {
   "cell_type": "code",
   "execution_count": null,
   "id": "d319533f",
   "metadata": {},
   "outputs": [],
   "source": [
    "df_train_set[df_train_set.isna().values == True] # 输出有缺失值的数据行"
   ]
  },
  {
   "cell_type": "code",
   "execution_count": 10,
   "id": "c4f703f0",
   "metadata": {},
   "outputs": [],
   "source": [
    "df_train_set.dropna(inplace=True) # 去除空行 "
   ]
  },
  {
   "cell_type": "markdown",
   "id": "2ac0318d",
   "metadata": {},
   "source": [
    "### 2.4 查看列类型"
   ]
  },
  {
   "cell_type": "code",
   "execution_count": null,
   "id": "5beb63f5",
   "metadata": {},
   "outputs": [],
   "source": [
    "df_train_set.dtypes"
   ]
  },
  {
   "cell_type": "markdown",
   "id": "5845bc34",
   "metadata": {},
   "source": [
    "### 2.5 异常值处理"
   ]
  },
  {
   "cell_type": "code",
   "execution_count": null,
   "id": "0362dee5",
   "metadata": {},
   "outputs": [],
   "source": [
    "df_train_set[df_train_set['workclass'].str.contains(r'\\?', regex=True)] # 查找异常值, 避免与正则表达式的?冲突需要转义"
   ]
  },
  {
   "cell_type": "code",
   "execution_count": null,
   "id": "c9a08cfe",
   "metadata": {},
   "outputs": [],
   "source": [
    "df_train_set=df_train_set[~df_train_set['workclass'].str.contains(r'\\?', regex=True)]\n",
    "df_train_set"
   ]
  },
  {
   "cell_type": "code",
   "execution_count": null,
   "id": "debec8c4",
   "metadata": {},
   "outputs": [],
   "source": [
    "#删除有异常值的行\n",
    "new_columns = ['workclass', 'education', 'maritalStatus', 'occupation', 'relationship', 'race', 'sex',\n",
    "               'nativeCountry', 'income']\n",
    "for col in new_columns:\n",
    "        df_train_set = df_train_set[~df_train_set[col].str.contains(r'\\?', regex=True)]\n",
    "df_train_set.head()"
   ]
  },
  {
   "cell_type": "markdown",
   "id": "8af9d211",
   "metadata": {},
   "source": [
    "### 2.6 数据可视化，以年龄为例"
   ]
  },
  {
   "cell_type": "code",
   "execution_count": null,
   "id": "ec4bab13",
   "metadata": {},
   "outputs": [],
   "source": [
    "df_train_set['age'].plot.hist()"
   ]
  },
  {
   "cell_type": "code",
   "execution_count": null,
   "id": "a03b310e",
   "metadata": {},
   "outputs": [],
   "source": [
    "df_train_set['age'].value_counts().sort_index().plot(kind=\"line\")"
   ]
  },
  {
   "cell_type": "code",
   "execution_count": null,
   "id": "c0c7e31e",
   "metadata": {},
   "outputs": [],
   "source": [
    "# 画出年龄与收入的关系\n",
    "\n",
    "df_train_set = df_train_set.reset_index(drop=True) #重置索引\n",
    "df_train_set['age'].isnull() == True\n",
    "s=df_train_set['age'].value_counts()\n",
    "k=df_train_set['age'][df_train_set['income']==' >50K'].value_counts()\n",
    "sns.set_style(\"whitegrid\")\n",
    "f, ax = plt.subplots(figsize=(18, 9))\n",
    "sns.set_color_codes(\"pastel\")\n",
    "sns.barplot(x=s.index,y=s.values,label='total',color=\"b\")\n",
    "sns.barplot(x=k.index,y=k.values,label='income>50K',color=\"g\")\n",
    "ax.legend(ncol=2, loc=\"upper left\", frameon=True)"
   ]
  },
  {
   "cell_type": "markdown",
   "id": "f8ccedf7",
   "metadata": {},
   "source": [
    "### 2.7 连续型变量处理"
   ]
  },
  {
   "cell_type": "code",
   "execution_count": 18,
   "id": "ba523716",
   "metadata": {},
   "outputs": [],
   "source": [
    "continuous_column = ['age', 'capitalGain', 'capitalLoss', 'hoursPerWeek']"
   ]
  },
  {
   "cell_type": "code",
   "execution_count": null,
   "id": "8beefdd4",
   "metadata": {},
   "outputs": [],
   "source": [
    "df_train_set['age'].max(), df_train_set['age'].min()"
   ]
  },
  {
   "cell_type": "code",
   "execution_count": null,
   "id": "7bc20bcb",
   "metadata": {},
   "outputs": [],
   "source": [
    "df_train_set['age'].head() "
   ]
  },
  {
   "cell_type": "code",
   "execution_count": 21,
   "id": "e215575c",
   "metadata": {},
   "outputs": [],
   "source": [
    "bins = [0, 25, 50, 75, 100] # 分箱区间左开右闭 (0, 25], (25, 50], ...\n",
    "df_train_set['age'] = pd.cut(df_train_set['age'], bins, labels=False)"
   ]
  },
  {
   "cell_type": "code",
   "execution_count": null,
   "id": "0edf5ccd",
   "metadata": {},
   "outputs": [],
   "source": [
    "df_train_set['age'].head() "
   ]
  },
  {
   "cell_type": "code",
   "execution_count": null,
   "id": "2d5b670b",
   "metadata": {},
   "outputs": [],
   "source": [
    "for colname in continuous_column[1:]:\n",
    "    print(colname)\n",
    "    max_, min_ = df_train_set[colname].max(), df_train_set[colname].min()\n",
    "    print(max_, min_)\n",
    "    bins = np.linspace(min_-1, max_+1, 5).tolist()\n",
    "    bins = [int(ele) for ele in bins]\n",
    "    print(\"分箱:\", bins)\n",
    "    df_train_set[colname] = pd.cut(df_train_set[colname], bins, labels=False)\n",
    "    df_train_set[colname].head(2)\n",
    "    print(df_train_set[colname].value_counts().sort_index())"
   ]
  },
  {
   "cell_type": "markdown",
   "id": "4e6e9650",
   "metadata": {},
   "source": [
    "### 2.8 离散型变量处理"
   ]
  },
  {
   "cell_type": "code",
   "execution_count": 24,
   "id": "c31eef6e",
   "metadata": {},
   "outputs": [],
   "source": [
    "discrete_column = ['workclass', 'education', 'maritalStatus', 'occupation', 'relationship', 'race', 'sex', 'nativeCountry', 'income']\n",
    "discrete_map = dict()"
   ]
  },
  {
   "cell_type": "code",
   "execution_count": null,
   "id": "51497367",
   "metadata": {},
   "outputs": [],
   "source": [
    "df_train_set['workclass'].value_counts()"
   ]
  },
  {
   "cell_type": "code",
   "execution_count": null,
   "id": "8ac74e85",
   "metadata": {},
   "outputs": [],
   "source": [
    "df_train_set['workclass'].head() #展示前五条"
   ]
  },
  {
   "cell_type": "code",
   "execution_count": null,
   "id": "612dce08",
   "metadata": {},
   "outputs": [],
   "source": [
    "df_train_set['workclass'].value_counts().keys()"
   ]
  },
  {
   "cell_type": "code",
   "execution_count": 28,
   "id": "9509c2db",
   "metadata": {},
   "outputs": [],
   "source": [
    "workclass_mapping = {' Private': 0, ' Self-emp-not-inc': 1, ' Self-emp-inc': 1, ' Local-gov': 2, \n",
    "                     ' State-gov': 2, ' Federal-gov': 2, ' Without-pay': 3, ' Never-worked': 3}\n",
    "df_train_set['workclass'] = df_train_set['workclass'].map(workclass_mapping)"
   ]
  },
  {
   "cell_type": "code",
   "execution_count": 29,
   "id": "7c7c3d0f",
   "metadata": {},
   "outputs": [],
   "source": [
    "df_train_set['workclass'].head()\n",
    "discrete_map['workclass'] = workclass_mapping"
   ]
  },
  {
   "cell_type": "code",
   "execution_count": null,
   "id": "522e70a4",
   "metadata": {},
   "outputs": [],
   "source": [
    "for colname in discrete_column[1:]:\n",
    "    print('*'*10, colname, '*'*10)\n",
    "    print(df_train_set[colname].head().tolist())\n",
    "    uq = pd.unique(df_train_set[colname])\n",
    "    tempd = {uq[i]: i for i in range(len(uq))}\n",
    "    discrete_map[colname] = tempd\n",
    "    df_train_set[colname] = df_train_set[colname].map(tempd)\n",
    "    print(df_train_set[colname].head().tolist())"
   ]
  },
  {
   "cell_type": "markdown",
   "id": "221e1e7a",
   "metadata": {},
   "source": [
    "### 数据数值化完成"
   ]
  },
  {
   "cell_type": "code",
   "execution_count": null,
   "id": "9676ec1c",
   "metadata": {},
   "outputs": [],
   "source": [
    "print(df_train_set.dtypes) "
   ]
  },
  {
   "cell_type": "markdown",
   "id": "34d620a6",
   "metadata": {},
   "source": [
    "## 3. 构造决策树，进行训练"
   ]
  },
  {
   "cell_type": "code",
   "execution_count": 32,
   "id": "79903ba3",
   "metadata": {},
   "outputs": [],
   "source": [
    "def calc_gini(df:pd.DataFrame)->float:\n",
    "    \"\"\"\n",
    "    计算基尼指数\n",
    "    Args:\n",
    "        df (pd.DataFrame): _description_ 传入的df\n",
    "\n",
    "    Returns:\n",
    "        float: _description_ 根据income计算的基尼指数\n",
    "    \"\"\"\n",
    "    cls_cnt = df['income'].value_counts()\n",
    "    summary = len(df)\n",
    "    gini = 1 -sum((count/summary)**2 for count in cls_cnt)\n",
    "    return gini\n",
    "    \n",
    "\n",
    "def split_dataset(df:pd.DataFrame, index:str, value:int)->tuple[pd.DataFrame, pd.DataFrame]:\n",
    "    \"\"\"\n",
    "    根据index列的值分隔df\n",
    "    Args:\n",
    "        df (pd.DataFrame): _description_ 待分割的df\n",
    "        index (str): _description_ 列名\n",
    "        value (int): _description_ 列分割值\n",
    "\n",
    "    Returns:\n",
    "        tuple(df, df): _description_ 左右两个df\n",
    "    \"\"\"\n",
    "    left_df = df.loc[df.loc[:, index] <= value]\n",
    "    right_df = df.loc[df.loc[:, index] > value]\n",
    "    return left_df, right_df\n",
    "    \n",
    "    \n",
    "def choose_best_feature_to_split(df:pd.DataFrame, columns:list[str])->tuple:\n",
    "    \"\"\"\n",
    "    选择最佳特征进行分割\n",
    "    Args:\n",
    "        df (_type_): _description_\n",
    "        columns (_type_): 当前df能用来分隔的列属性\n",
    "\n",
    "    Raises:\n",
    "        ValueError: _description_\n",
    "        ValueError: _description_\n",
    "\n",
    "    Returns:\n",
    "        tuple: _description_ 分割的相关结果\n",
    "    \"\"\"\n",
    "    if len(df)==0:\n",
    "        raise ValueError(\"df is empty\")\n",
    "    if columns[-1] != 'income':\n",
    "        raise ValueError(\"columns[-1] is not 'income'\")\n",
    "    \n",
    "    best_gain = 0\n",
    "    best_value = (None, None)\n",
    "    best_df = (None, None)\n",
    "    cur_gini = calc_gini(df)\n",
    "    for index in columns[:-1]:\n",
    "        for value in df.loc[:, index].unique():\n",
    "            left_df, right_df = split_dataset(df, index, value)\n",
    "            if len(left_df) == 0 or len(right_df) == 0:\n",
    "                continue\n",
    "            left_gini  = calc_gini(left_df)\n",
    "            right_gini = calc_gini(right_df)\n",
    "            temp_gini = (len(left_df)/len(df))*left_gini + (len(right_df)/len(df))*right_gini\n",
    "            \n",
    "            gain = cur_gini - temp_gini ##temp_gini变小更好，说明更趋近于在同一类\n",
    "            if gain > best_gain:\n",
    "                best_gain = gain\n",
    "                best_value = (index, value)\n",
    "                best_df = (left_df, right_df)\n",
    "    return best_value, best_df, best_gain\n",
    "            \n",
    "\n",
    "\n",
    "def build_decision_tree(df:pd.DataFrame, columns:list[str])->dict:\n",
    "    \"\"\"\n",
    "    构建CART决策树\n",
    "    Args:\n",
    "        df (pd.DataFrame): _description_ 当前要构建的df\n",
    "        columns (list[str]): _description_ 当前df能用来分隔的列属性\n",
    "\n",
    "    Returns:\n",
    "        dict: _description_ 构建的决策树\n",
    "    \"\"\"\n",
    "    # 递归结束情况1: 若当前集合的所有样本标签相等,即样本已被分\"纯\",则可以返回该标签值作为一个叶子节点\n",
    "    # 递归结束情况2: 若当前训练集的所有特征都被使用完毕,当前无可用特征但样本仍未分\"纯\"，则返回样本最多的标签作为结果\n",
    "   \n",
    "    if len(df['income'].unique()) == 1:\n",
    "        return df['income'].iloc[0]\n",
    "    \n",
    "    if len(columns) == 1 and columns[0] == 'income':\n",
    "        return df['income'].mode()[0]\n",
    "    \n",
    "    best_value, (left_df, right_df), best_gain = choose_best_feature_to_split(df, columns.copy())\n",
    "    \n",
    "    index, value = best_value\n",
    "    \n",
    "    if index is None:\n",
    "        return df['income'].mode()[0]\n",
    "    \n",
    "    tree = {f\"feature_{index}\": {}}\n",
    "    \n",
    "    index_int = columns.index(index)\n",
    "    left_cols = columns[:index_int] + columns[index_int+1:]\n",
    "    right_cols = columns[:index_int] + columns[index_int+1:]\n",
    "    \n",
    "    tree[f\"feature_{index}\"][f\"sep_colname\"] = index\n",
    "    tree[f\"feature_{index}\"][f\"sep_value\"] = value\n",
    "    tree[f\"feature_{index}\"][f\"<= {value}\"] = build_decision_tree(left_df, left_cols.copy())\n",
    "    tree[f\"feature_{index}\"][f\"> {value}\"] = build_decision_tree(right_df, right_cols.copy())\n",
    "    \n",
    "    return tree\n",
    "    \n",
    "    \n",
    "    \n",
    "    \n",
    "def save_decision_tree(cart):\n",
    "    \"\"\"\n",
    "    决策树的存储\n",
    "    :param cart: 训练好的决策树\n",
    "    :return: void\n",
    "    \"\"\"\n",
    "    np.save('cart.npy', cart)\n",
    "    \n",
    "    \n",
    "def load_decision_tree():\n",
    "    \"\"\"\n",
    "    决策树的加载\n",
    "    :return: 保存的决策树\n",
    "    \"\"\"    \n",
    "    cart = np.load('cart.npy', allow_pickle=True)\n",
    "    return cart.item()\n"
   ]
  },
  {
   "cell_type": "code",
   "execution_count": 33,
   "id": "c73fc3f9",
   "metadata": {},
   "outputs": [],
   "source": [
    "df_train = df_train_set.copy() #防止预处理重新来\n",
    "# df_train.head()"
   ]
  },
  {
   "cell_type": "code",
   "execution_count": 34,
   "id": "d10171e2",
   "metadata": {},
   "outputs": [],
   "source": [
    "a = [1,2,3]\n"
   ]
  },
  {
   "cell_type": "code",
   "execution_count": 35,
   "id": "75c305eb",
   "metadata": {},
   "outputs": [],
   "source": [
    "columns = df_train.columns.to_list()\n",
    "flags = [0 for i in range(len(columns))]\n",
    "flags[-1] = 1"
   ]
  },
  {
   "cell_type": "code",
   "execution_count": 36,
   "id": "e05a0578",
   "metadata": {},
   "outputs": [],
   "source": [
    "cart = build_decision_tree(df_train, columns)\n",
    "save_decision_tree(cart)"
   ]
  },
  {
   "cell_type": "code",
   "execution_count": null,
   "id": "214c2b2d",
   "metadata": {},
   "outputs": [],
   "source": [
    "a = type(df_train.iloc[0, -1])\n",
    "print(a)\n",
    "b = 1\n",
    "print(isinstance(b,a))"
   ]
  },
  {
   "cell_type": "markdown",
   "id": "c7b0db06",
   "metadata": {},
   "source": [
    "## 4. 评估"
   ]
  },
  {
   "cell_type": "code",
   "execution_count": 38,
   "id": "59a39e20",
   "metadata": {},
   "outputs": [],
   "source": [
    "def classify(cart:dict, df_row:pd.Series, targettype:type)->int:\n",
    "    \"\"\"\n",
    "    对一行df_row进行分类\n",
    "    Args:\n",
    "        cart (dict): _description_ 决策树\n",
    "        df_row (pd.Series): _description_ 传入的一行数据\n",
    "        targettype (type): _description_ 递归的终止类型\n",
    "\n",
    "    Returns:\n",
    "        int: _description_\n",
    "    \"\"\"\n",
    "    key = list(cart.keys())[0]\n",
    "    sep_colname = cart[key]['sep_colname']\n",
    "    sep_value = cart[key]['sep_value']\n",
    "    left_df = cart[key][f'<= {sep_value}']\n",
    "    right_df = cart[key][f'> {sep_value}']\n",
    "        \n",
    "    while True:\n",
    "        if df_row[sep_colname] <= sep_value:\n",
    "            cart = left_df\n",
    "        else:\n",
    "            cart = right_df\n",
    "        if isinstance(cart, targettype):\n",
    "            break\n",
    "        key = list(cart.keys())[0]\n",
    "        sep_colname = cart[key]['sep_colname']\n",
    "        sep_value = cart[key]['sep_value']\n",
    "        left_df = cart[key][f'<= {sep_value}']\n",
    "        right_df = cart[key][f'> {sep_value}']\n",
    "    \n",
    "    return cart\n",
    "        \n",
    "    \n",
    "    \n",
    "def predict(cart:dict, df)->list[np.int64]:\n",
    "    \"\"\"\n",
    "    预测df中的数据\n",
    "    Args:\n",
    "        cart (_type_): _description_ 决策树信息\n",
    "        df (_type_): _description_ 待预测数据\n",
    "\n",
    "    Returns:\n",
    "        _type_: _description_ 预测结果列表\n",
    "    \"\"\"\n",
    "    targettype = type(df.iloc[0, -1])\n",
    "    pred_list = []\n",
    "    for i in range(len(df)):\n",
    "        pred_label = classify(cart, df.iloc[i,:], targettype)\n",
    "        if pred_label == -1:\n",
    "            pred_label = random.randint(0, 1) # 防止classify执行到返回-1,但一般不会执行到返回-1\n",
    "        pred_list.append(pred_label)\n",
    "    return pred_list\n",
    "\n",
    "def calc_acc(pred_list:list[np.int64], test_list:list[np.int64])->int:\n",
    "    \"\"\"_summary_\n",
    "\n",
    "    Args:\n",
    "        pred_list (list[np.int64]): _description_ 预测列表\n",
    "        test_list (list[np.int64]): _description_ 实际列表\n",
    "\n",
    "    Returns:\n",
    "        int: _description_ 准确率\n",
    "    \"\"\"\n",
    "    pred = np.array(pred_list)\n",
    "    test = np.array(test_list)\n",
    "    acc = np.sum(pred_list == test_list) / len(test_list)\n",
    "    return acc\n"
   ]
  },
  {
   "cell_type": "markdown",
   "id": "e4022a5b",
   "metadata": {},
   "source": [
    "## 5. Demo"
   ]
  },
  {
   "cell_type": "code",
   "execution_count": null,
   "id": "0d32419c",
   "metadata": {},
   "outputs": [],
   "source": [
    "print(type(df_train.iloc[0, -1]))"
   ]
  },
  {
   "cell_type": "markdown",
   "id": "ad375aa3",
   "metadata": {},
   "source": [
    "#### (1) 下面只是测试模型能不能跑通,实际操作时需要用测试集进行评估\n",
    "#### (2) 此外，测试集应该需要做和训练集一样的预处理操作"
   ]
  },
  {
   "cell_type": "code",
   "execution_count": 40,
   "id": "255d70ff",
   "metadata": {},
   "outputs": [],
   "source": [
    "columns = df_train.columns.to_list()"
   ]
  },
  {
   "cell_type": "code",
   "execution_count": 41,
   "id": "e7759198",
   "metadata": {},
   "outputs": [],
   "source": [
    "cart = load_decision_tree() # 加载模型"
   ]
  },
  {
   "cell_type": "code",
   "execution_count": 42,
   "id": "c5be5e1e",
   "metadata": {},
   "outputs": [],
   "source": [
    "test_list = df_train['income'].to_numpy()\n",
    "pred_list = predict(cart, df_train)"
   ]
  },
  {
   "cell_type": "code",
   "execution_count": 43,
   "id": "76f41d4c",
   "metadata": {},
   "outputs": [],
   "source": [
    "acc = calc_acc(pred_list, test_list)"
   ]
  },
  {
   "cell_type": "code",
   "execution_count": null,
   "id": "dee49d56",
   "metadata": {},
   "outputs": [],
   "source": [
    "acc"
   ]
  },
  {
   "cell_type": "code",
   "execution_count": null,
   "id": "0b508ccf",
   "metadata": {},
   "outputs": [],
   "source": [
    "def pre_dfprocess(dfin:pd.data)"
   ]
  }
 ],
 "metadata": {
  "kernelspec": {
   "display_name": "Python 3",
   "language": "python",
   "name": "python3"
  },
  "language_info": {
   "codemirror_mode": {
    "name": "ipython",
    "version": 3
   },
   "file_extension": ".py",
   "mimetype": "text/x-python",
   "name": "python",
   "nbconvert_exporter": "python",
   "pygments_lexer": "ipython3",
   "version": "3.11.9"
  }
 },
 "nbformat": 4,
 "nbformat_minor": 5
}
